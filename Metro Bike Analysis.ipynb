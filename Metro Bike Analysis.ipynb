{
 "cells": [
  {
   "cell_type": "markdown",
   "id": "895e39f2-039c-4363-aa8e-7d747a59b8cd",
   "metadata": {},
   "source": [
    "EDA on Metro Bike\n",
    "This exploratory data analysis (EDA) delves into the usage patterns and trends of the Metro Bike system. By examining factors such as trip duration, popular routes, and potential areas for improvement."
   ]
  },
  {
   "cell_type": "code",
   "execution_count": 22,
   "id": "fbd3dda0-04da-4be1-b5c5-40704f6729de",
   "metadata": {},
   "outputs": [],
   "source": [
    "# Importing libraries for analysis\n",
    "import pandas as pd\n",
    "import numpy as np\n",
    "import matplotlib.pyplot as plt\n",
    "import seaborn as sns"
   ]
  },
  {
   "cell_type": "code",
   "execution_count": 23,
   "id": "ab413a66-631a-4076-b169-1e607cd053c5",
   "metadata": {},
   "outputs": [
    {
     "name": "stdout",
     "output_type": "stream",
     "text": [
      "<class 'pandas.core.frame.DataFrame'>\n",
      "RangeIndex: 994880 entries, 0 to 994879\n",
      "Data columns (total 15 columns):\n",
      " #   Column               Non-Null Count   Dtype  \n",
      "---  ------               --------------   -----  \n",
      " 0   trip_id              994880 non-null  int64  \n",
      " 1   duration             994880 non-null  int64  \n",
      " 2   start_time           994880 non-null  object \n",
      " 3   end_time             994880 non-null  object \n",
      " 4   start_station        994880 non-null  int64  \n",
      " 5   start_lat            994755 non-null  float64\n",
      " 6   start_lon            994755 non-null  float64\n",
      " 7   end_station          994880 non-null  int64  \n",
      " 8   end_lat              976924 non-null  float64\n",
      " 9   end_lon              976923 non-null  float64\n",
      " 10  bike_id              994880 non-null  object \n",
      " 11  plan_duration        994880 non-null  int64  \n",
      " 12  trip_route_category  994880 non-null  object \n",
      " 13  passholder_type      994722 non-null  object \n",
      " 14  bike_type            994880 non-null  object \n",
      "dtypes: float64(4), int64(5), object(6)\n",
      "memory usage: 113.9+ MB\n"
     ]
    }
   ],
   "source": [
    "# Importing dataset\n",
    "mt = pd.read_csv(r'C:\\Users\\hp\\Documents\\metro_trips.csv', low_memory=False)\n",
    "mt.info()"
   ]
  },
  {
   "cell_type": "code",
   "execution_count": 24,
   "id": "4a9d750b-6b85-4ee3-90aa-5727091790a8",
   "metadata": {},
   "outputs": [
    {
     "name": "stdout",
     "output_type": "stream",
     "text": [
      "<class 'pandas.core.frame.DataFrame'>\n",
      "RangeIndex: 976741 entries, 0 to 976740\n",
      "Data columns (total 16 columns):\n",
      " #   Column               Non-Null Count   Dtype  \n",
      "---  ------               --------------   -----  \n",
      " 0   index                976741 non-null  int64  \n",
      " 1   trip_id              976741 non-null  int64  \n",
      " 2   duration             976741 non-null  int64  \n",
      " 3   start_time           976741 non-null  object \n",
      " 4   end_time             976741 non-null  object \n",
      " 5   start_station        976741 non-null  int64  \n",
      " 6   start_lat            976741 non-null  float64\n",
      " 7   start_lon            976741 non-null  float64\n",
      " 8   end_station          976741 non-null  int64  \n",
      " 9   end_lat              976741 non-null  float64\n",
      " 10  end_lon              976741 non-null  float64\n",
      " 11  bike_id              976741 non-null  object \n",
      " 12  plan_duration        976741 non-null  int64  \n",
      " 13  trip_route_category  976741 non-null  object \n",
      " 14  passholder_type      976741 non-null  object \n",
      " 15  bike_type            976741 non-null  object \n",
      "dtypes: float64(4), int64(6), object(6)\n",
      "memory usage: 119.2+ MB\n"
     ]
    },
    {
     "data": {
      "text/html": [
       "<div>\n",
       "<style scoped>\n",
       "    .dataframe tbody tr th:only-of-type {\n",
       "        vertical-align: middle;\n",
       "    }\n",
       "\n",
       "    .dataframe tbody tr th {\n",
       "        vertical-align: top;\n",
       "    }\n",
       "\n",
       "    .dataframe thead th {\n",
       "        text-align: right;\n",
       "    }\n",
       "</style>\n",
       "<table border=\"1\" class=\"dataframe\">\n",
       "  <thead>\n",
       "    <tr style=\"text-align: right;\">\n",
       "      <th></th>\n",
       "      <th>index</th>\n",
       "      <th>trip_id</th>\n",
       "      <th>duration</th>\n",
       "      <th>start_time</th>\n",
       "      <th>end_time</th>\n",
       "      <th>start_station</th>\n",
       "      <th>start_lat</th>\n",
       "      <th>start_lon</th>\n",
       "      <th>end_station</th>\n",
       "      <th>end_lat</th>\n",
       "      <th>end_lon</th>\n",
       "      <th>bike_id</th>\n",
       "      <th>plan_duration</th>\n",
       "      <th>trip_route_category</th>\n",
       "      <th>passholder_type</th>\n",
       "      <th>bike_type</th>\n",
       "    </tr>\n",
       "  </thead>\n",
       "  <tbody>\n",
       "    <tr>\n",
       "      <th>0</th>\n",
       "      <td>0</td>\n",
       "      <td>181126929</td>\n",
       "      <td>1440</td>\n",
       "      <td>1/20/2022 7:18</td>\n",
       "      <td>1/22/2022 8:30</td>\n",
       "      <td>3074</td>\n",
       "      <td>34.044170</td>\n",
       "      <td>-118.261169</td>\n",
       "      <td>4453</td>\n",
       "      <td>34.082649</td>\n",
       "      <td>-118.284393</td>\n",
       "      <td>12055</td>\n",
       "      <td>365</td>\n",
       "      <td>One Way</td>\n",
       "      <td>Annual Pass</td>\n",
       "      <td>standard</td>\n",
       "    </tr>\n",
       "    <tr>\n",
       "      <th>1</th>\n",
       "      <td>2</td>\n",
       "      <td>186073484</td>\n",
       "      <td>1440</td>\n",
       "      <td>03/10/2022 07:10</td>\n",
       "      <td>3/13/2022 14:26</td>\n",
       "      <td>4482</td>\n",
       "      <td>34.094372</td>\n",
       "      <td>-118.331009</td>\n",
       "      <td>4482</td>\n",
       "      <td>34.094372</td>\n",
       "      <td>-118.331009</td>\n",
       "      <td>15238</td>\n",
       "      <td>365</td>\n",
       "      <td>Round Trip</td>\n",
       "      <td>Annual Pass</td>\n",
       "      <td>standard</td>\n",
       "    </tr>\n",
       "    <tr>\n",
       "      <th>2</th>\n",
       "      <td>3</td>\n",
       "      <td>186285140</td>\n",
       "      <td>1440</td>\n",
       "      <td>03/10/2022 21:04</td>\n",
       "      <td>3/15/2022 9:37</td>\n",
       "      <td>3005</td>\n",
       "      <td>34.048500</td>\n",
       "      <td>-118.258537</td>\n",
       "      <td>4513</td>\n",
       "      <td>34.083710</td>\n",
       "      <td>-118.296021</td>\n",
       "      <td>16992</td>\n",
       "      <td>365</td>\n",
       "      <td>One Way</td>\n",
       "      <td>Annual Pass</td>\n",
       "      <td>electric</td>\n",
       "    </tr>\n",
       "    <tr>\n",
       "      <th>3</th>\n",
       "      <td>4</td>\n",
       "      <td>186246165</td>\n",
       "      <td>1440</td>\n",
       "      <td>3/13/2022 21:08</td>\n",
       "      <td>3/15/2022 7:43</td>\n",
       "      <td>3052</td>\n",
       "      <td>34.051102</td>\n",
       "      <td>-118.264557</td>\n",
       "      <td>3074</td>\n",
       "      <td>34.044170</td>\n",
       "      <td>-118.261169</td>\n",
       "      <td>19331</td>\n",
       "      <td>365</td>\n",
       "      <td>One Way</td>\n",
       "      <td>Annual Pass</td>\n",
       "      <td>electric</td>\n",
       "    </tr>\n",
       "    <tr>\n",
       "      <th>4</th>\n",
       "      <td>5</td>\n",
       "      <td>186953513</td>\n",
       "      <td>1440</td>\n",
       "      <td>3/19/2022 21:34</td>\n",
       "      <td>3/22/2022 8:40</td>\n",
       "      <td>4491</td>\n",
       "      <td>34.047440</td>\n",
       "      <td>-118.247940</td>\n",
       "      <td>4491</td>\n",
       "      <td>34.047440</td>\n",
       "      <td>-118.247940</td>\n",
       "      <td>16716</td>\n",
       "      <td>365</td>\n",
       "      <td>Round Trip</td>\n",
       "      <td>Annual Pass</td>\n",
       "      <td>electric</td>\n",
       "    </tr>\n",
       "  </tbody>\n",
       "</table>\n",
       "</div>"
      ],
      "text/plain": [
       "   index    trip_id  duration        start_time         end_time  \\\n",
       "0      0  181126929      1440    1/20/2022 7:18   1/22/2022 8:30   \n",
       "1      2  186073484      1440  03/10/2022 07:10  3/13/2022 14:26   \n",
       "2      3  186285140      1440  03/10/2022 21:04   3/15/2022 9:37   \n",
       "3      4  186246165      1440   3/13/2022 21:08   3/15/2022 7:43   \n",
       "4      5  186953513      1440   3/19/2022 21:34   3/22/2022 8:40   \n",
       "\n",
       "   start_station  start_lat   start_lon  end_station    end_lat     end_lon  \\\n",
       "0           3074  34.044170 -118.261169         4453  34.082649 -118.284393   \n",
       "1           4482  34.094372 -118.331009         4482  34.094372 -118.331009   \n",
       "2           3005  34.048500 -118.258537         4513  34.083710 -118.296021   \n",
       "3           3052  34.051102 -118.264557         3074  34.044170 -118.261169   \n",
       "4           4491  34.047440 -118.247940         4491  34.047440 -118.247940   \n",
       "\n",
       "  bike_id  plan_duration trip_route_category passholder_type bike_type  \n",
       "0   12055            365             One Way     Annual Pass  standard  \n",
       "1   15238            365          Round Trip     Annual Pass  standard  \n",
       "2   16992            365             One Way     Annual Pass  electric  \n",
       "3   19331            365             One Way     Annual Pass  electric  \n",
       "4   16716            365          Round Trip     Annual Pass  electric  "
      ]
     },
     "execution_count": 24,
     "metadata": {},
     "output_type": "execute_result"
    }
   ],
   "source": [
    "# Removing nulls and dropping duplicates \n",
    "mt_cleaned = mt.dropna().drop_duplicates().reset_index()\n",
    "mt_cleaned.info()\n",
    "mt_cleaned.head()"
   ]
  },
  {
   "cell_type": "code",
   "execution_count": 25,
   "id": "37329b15-976c-49d3-bce4-e7db93effd69",
   "metadata": {},
   "outputs": [
    {
     "name": "stdout",
     "output_type": "stream",
     "text": [
      "The typical trip duration is 31.75 minutes\n"
     ]
    }
   ],
   "source": [
    "# Average duration of bike trips\n",
    "avg_duration = mt_cleaned['duration'].mean()\n",
    "print(f\"The typical trip duration is {avg_duration:.2f} minutes\")"
   ]
  },
  {
   "cell_type": "code",
   "execution_count": 26,
   "id": "5fd44610-81fa-4167-97bc-aaf99d281c3b",
   "metadata": {},
   "outputs": [
    {
     "data": {
      "image/png": "[encoded data removed]",
      "text/plain": [
       "<Figure size 640x480 with 1 Axes>"
      ]
     },
     "metadata": {},
     "output_type": "display_data"
    }
   ],
   "source": [
    "# Creating a histogram to check duration distribution\n",
    "plt.hist(mt_cleaned['duration'])\n",
    "plt.xticks(range(1, 1500, 50), rotation=45)\n",
    "plt.xlabel('Duration')\n",
    "plt.ylabel('Count')\n",
    "plt.show()"
   ]
  },
  {
   "cell_type": "markdown",
   "id": "a7f1ae61-5e9b-44de-a009-97db2ff3e614",
   "metadata": {},
   "source": [
    "The left-skewed distrubution revealed by the histogram indicates that most trips are shorter, with a few longer rides. "
   ]
  },
  {
   "cell_type": "code",
   "execution_count": 27,
   "id": "1b4e5f58-50a2-4754-a26b-fa0dcff3bbdf",
   "metadata": {},
   "outputs": [
    {
     "data": {
      "text/plain": [
       "passholder_type\n",
       "Monthly Pass    580467\n",
       "Walk-up         212785\n",
       "Annual Pass      92412\n",
       "One Day Pass     91077\n",
       "Name: count, dtype: int64"
      ]
     },
     "execution_count": 27,
     "metadata": {},
     "output_type": "execute_result"
    }
   ],
   "source": [
    "# Comparing average duration for various passholder types\n",
    "mt_cleaned['passholder_type'].value_counts()"
   ]
  },
  {
   "cell_type": "markdown",
   "id": "f9564f76-c8f4-44f7-ba89-d2fec38ed350",
   "metadata": {},
   "source": [
    "There are four passholder types; monthly, walk-up, annual, and one day passes."
   ]
  },
  {
   "cell_type": "code",
   "execution_count": 28,
   "id": "39fb1257-ae99-44fa-93a3-34aa20756bd7",
   "metadata": {},
   "outputs": [
    {
     "name": "stdout",
     "output_type": "stream",
     "text": [
      "The average trip duration for Monthly pass passholders is 19.45 minutes\n",
      "The average trip duration for Walk-up passholders is 57.26 minutes\n",
      "The average trip duration for Annual pass passholders is 14.19 minutes\n",
      "The average trip duration for One Day Pass passholders is 68.38 minutes\n"
     ]
    }
   ],
   "source": [
    "# Creating dataframes for each passholder type\n",
    "mpt = mt_cleaned[mt_cleaned['passholder_type']=='Monthly Pass'] # dataframe for monthly pass passholders\n",
    "wpt = mt_cleaned[mt_cleaned['passholder_type']=='Walk-up'] # dataframe for walk-up passholders\n",
    "apt = mt_cleaned[mt_cleaned['passholder_type']=='Annual Pass'] # dataframe for annual passholders\n",
    "opt = mt_cleaned[mt_cleaned['passholder_type']=='One Day Pass'] # dataframe for one day passholders\n",
    "# Evaluating mean duration for the various passholders\n",
    "mpt_avg = mpt['duration'].mean()\n",
    "print(f\"The average trip duration for Monthly pass passholders is {mpt_avg:.2f} minutes\")\n",
    "wpt_avg = wpt['duration'].mean()\n",
    "print(f\"The average trip duration for Walk-up passholders is {wpt_avg:.2f} minutes\")\n",
    "apt_avg = apt['duration'].mean()\n",
    "print(f\"The average trip duration for Annual pass passholders is {apt_avg:.2f} minutes\")\n",
    "opt_avg = opt['duration'].mean()\n",
    "print(f\"The average trip duration for One Day Pass passholders is {opt_avg:.2f} minutes\")"
   ]
  },
  {
   "cell_type": "markdown",
   "id": "a60ff89f-a33b-437e-8bdd-eaf7bef3a25f",
   "metadata": {},
   "source": [
    "The average trip durations for monthly pass holders and annual pass holders is significantly lower than the overall average trip duration, while the trip durations for one day and walk_up passholders is higher than the overall average trip duration of 31.75 minutes."
   ]
  },
  {
   "cell_type": "code",
   "execution_count": 29,
   "id": "0492aab4-b588-4685-ad8b-94defbf37f59",
   "metadata": {},
   "outputs": [
    {
     "data": {
      "text/plain": [
       "trip_route_category\n",
       "One Way                800305\n",
       "Round Trip             176436\n",
       "Name: count, dtype: int64"
      ]
     },
     "execution_count": 29,
     "metadata": {},
     "output_type": "execute_result"
    }
   ],
   "source": [
    "# Route Type popularity\n",
    "mt_cleaned.value_counts(['trip_route_category'])"
   ]
  },
  {
   "cell_type": "markdown",
   "id": "d9744670-4247-499c-ae58-8e57d33da320",
   "metadata": {},
   "source": [
    "One Way trips are more popular with 82% of trips being One Way while 18% are Round Trips."
   ]
  },
  {
   "cell_type": "code",
   "execution_count": 30,
   "id": "159d8932-407b-4518-90f1-2536665fac14",
   "metadata": {},
   "outputs": [
    {
     "name": "stdout",
     "output_type": "stream",
     "text": [
      "The average trip duration for One Way Trip is 26.42 minutes\n",
      "The average Round Trip duration is 55.93 minutes\n"
     ]
    }
   ],
   "source": [
    "# Comparing average trip duration between one-way and round-trips\n",
    "OneWayTrip = mt_cleaned[mt_cleaned['trip_route_category']=='One Way'] # dataframe for One Way trips\n",
    "RoundTrip = mt_cleaned[mt_cleaned['trip_route_category']=='Round Trip'] # dataframe for Round Trips\n",
    "# Evaluating the average trip duration\n",
    "OneWayTrip_avg = OneWayTrip['duration'].mean()\n",
    "print(f\"The average trip duration for One Way Trip is {OneWayTrip_avg:.2f} minutes\")\n",
    "RoundTrip_avg = RoundTrip['duration'].mean()\n",
    "print(f\"The average Round Trip duration is {RoundTrip_avg:.2f} minutes\")"
   ]
  },
  {
   "cell_type": "markdown",
   "id": "ba30e0fd-a057-4326-840a-b0922ddf8d48",
   "metadata": {},
   "source": [
    "Round trips tend to take a higher duration than one way trips."
   ]
  },
  {
   "cell_type": "code",
   "execution_count": 31,
   "id": "ec6c077f-0edf-48ab-bf43-690cc5998e8d",
   "metadata": {},
   "outputs": [
    {
     "data": {
      "text/plain": [
       "start_station\n",
       "4214    49659\n",
       "Name: count, dtype: int64"
      ]
     },
     "execution_count": 31,
     "metadata": {},
     "output_type": "execute_result"
    }
   ],
   "source": [
    "# Most used starting station\n",
    "StartStation = mt_cleaned['start_station'].value_counts()\n",
    "StartStation.head(1)"
   ]
  },
  {
   "cell_type": "markdown",
   "id": "7dc7b911-5280-4f03-9efd-d7975208da07",
   "metadata": {},
   "source": [
    "The most used starting station is station 4214, in which 49,659 trips starting at station 4214."
   ]
  },
  {
   "cell_type": "code",
   "execution_count": 32,
   "id": "02369c0f-6aca-4063-8268-651027413049",
   "metadata": {},
   "outputs": [
    {
     "data": {
      "text/plain": [
       "end_station\n",
       "4215    47189\n",
       "Name: count, dtype: int64"
      ]
     },
     "execution_count": 32,
     "metadata": {},
     "output_type": "execute_result"
    }
   ],
   "source": [
    "# Most used stopping station\n",
    "EndStation = mt_cleaned['end_station'].value_counts()\n",
    "EndStation.head(1)"
   ]
  },
  {
   "cell_type": "markdown",
   "id": "106564c1-4bdf-4364-815f-591744b89faf",
   "metadata": {},
   "source": [
    "47,189 trips stopped at station 4215, which is the most used stopping station."
   ]
  },
  {
   "cell_type": "code",
   "execution_count": 33,
   "id": "075aef7e-c22a-474e-a3cc-f8f7c865adc2",
   "metadata": {},
   "outputs": [
    {
     "data": {
      "text/plain": [
       "bike_type\n",
       "standard    522864\n",
       "electric    453855\n",
       "smart           22\n",
       "Name: count, dtype: int64"
      ]
     },
     "execution_count": 33,
     "metadata": {},
     "output_type": "execute_result"
    }
   ],
   "source": [
    "# Bike Types\n",
    "mt_cleaned['bike_type'].value_counts()"
   ]
  },
  {
   "cell_type": "code",
   "execution_count": 34,
   "id": "07309dac-cfb7-4a20-9a02-ba157a24ad11",
   "metadata": {},
   "outputs": [
    {
     "data": {
      "image/png": "[encoded data removed]",
      "text/plain": [
       "<Figure size 640x480 with 1 Axes>"
      ]
     },
     "metadata": {},
     "output_type": "display_data"
    }
   ],
   "source": [
    "# Top ten bikes used more frequently than others\n",
    "freq = mt_cleaned['bike_id'].value_counts().reset_index(name='count').head(10)\n",
    "# Creating a bar chart of thr top ten frequently used bikes\n",
    "sns.barplot(x='bike_id', y='count', data = freq)\n",
    "plt.title('Top ten frequently used bikes')\n",
    "plt.yticks(range(0, 2500, 500))\n",
    "plt.xlabel('Bike ID')\n",
    "plt.ylabel('Count')\n",
    "plt.show()"
   ]
  },
  {
   "cell_type": "code",
   "execution_count": 35,
   "id": "053a8ad7-dde2-4d39-8454-814a6ecbc665",
   "metadata": {},
   "outputs": [
    {
     "data": {
      "text/html": [
       "<div>\n",
       "<style scoped>\n",
       "    .dataframe tbody tr th:only-of-type {\n",
       "        vertical-align: middle;\n",
       "    }\n",
       "\n",
       "    .dataframe tbody tr th {\n",
       "        vertical-align: top;\n",
       "    }\n",
       "\n",
       "    .dataframe thead th {\n",
       "        text-align: right;\n",
       "    }\n",
       "</style>\n",
       "<table border=\"1\" class=\"dataframe\">\n",
       "  <thead>\n",
       "    <tr style=\"text-align: right;\">\n",
       "      <th></th>\n",
       "      <th>bike_id</th>\n",
       "      <th>bike_type</th>\n",
       "    </tr>\n",
       "  </thead>\n",
       "  <tbody>\n",
       "    <tr>\n",
       "      <th>2</th>\n",
       "      <td>16992</td>\n",
       "      <td>electric</td>\n",
       "    </tr>\n",
       "    <tr>\n",
       "      <th>3</th>\n",
       "      <td>19331</td>\n",
       "      <td>electric</td>\n",
       "    </tr>\n",
       "    <tr>\n",
       "      <th>60</th>\n",
       "      <td>16992</td>\n",
       "      <td>electric</td>\n",
       "    </tr>\n",
       "    <tr>\n",
       "      <th>61</th>\n",
       "      <td>19358</td>\n",
       "      <td>electric</td>\n",
       "    </tr>\n",
       "    <tr>\n",
       "      <th>63</th>\n",
       "      <td>16992</td>\n",
       "      <td>electric</td>\n",
       "    </tr>\n",
       "    <tr>\n",
       "      <th>109</th>\n",
       "      <td>24411</td>\n",
       "      <td>electric</td>\n",
       "    </tr>\n",
       "    <tr>\n",
       "      <th>139</th>\n",
       "      <td>24414</td>\n",
       "      <td>electric</td>\n",
       "    </tr>\n",
       "    <tr>\n",
       "      <th>162</th>\n",
       "      <td>17523</td>\n",
       "      <td>electric</td>\n",
       "    </tr>\n",
       "    <tr>\n",
       "      <th>204</th>\n",
       "      <td>19289</td>\n",
       "      <td>electric</td>\n",
       "    </tr>\n",
       "    <tr>\n",
       "      <th>205</th>\n",
       "      <td>24414</td>\n",
       "      <td>electric</td>\n",
       "    </tr>\n",
       "  </tbody>\n",
       "</table>\n",
       "</div>"
      ],
      "text/plain": [
       "    bike_id bike_type\n",
       "2     16992  electric\n",
       "3     19331  electric\n",
       "60    16992  electric\n",
       "61    19358  electric\n",
       "63    16992  electric\n",
       "109   24411  electric\n",
       "139   24414  electric\n",
       "162   17523  electric\n",
       "204   19289  electric\n",
       "205   24414  electric"
      ]
     },
     "execution_count": 35,
     "metadata": {},
     "output_type": "execute_result"
    }
   ],
   "source": [
    "# To check bike type of frequently used bikes\n",
    "freqBikes = ['19331', '16992', '23390', '24411', '19289', '19358', '17321', '17523', '17011', '24414']\n",
    "filteredFreq = mt_cleaned[mt_cleaned['bike_id'].isin(freqBikes)]\n",
    "ID_and_BikeType = filteredFreq[['bike_id', 'bike_type']]\n",
    "ID_and_BikeType.head(10)"
   ]
  },
  {
   "cell_type": "markdown",
   "id": "a7d84584-71b1-412e-9a95-95619c0c1847",
   "metadata": {},
   "source": [
    "Despite more standard bikes being available, electric bikes were more used in trips. The most used bikes being electric bikes might explain the variation in bike usage. "
   ]
  },
  {
   "cell_type": "code",
   "execution_count": 36,
   "id": "8f9cc468-d0e0-42c0-959c-8b1073092b0f",
   "metadata": {},
   "outputs": [
    {
     "data": {
      "image/png": "[encoded data removed]",
      "text/plain": [
       "<Figure size 640x480 with 1 Axes>"
      ]
     },
     "metadata": {},
     "output_type": "display_data"
    }
   ],
   "source": [
    "# Passholders that took the most rides\n",
    "passholderDuration = mt_cleaned['passholder_type'].value_counts().reset_index()\n",
    "sns.barplot(x='passholder_type', y='count', data = passholderDuration)\n",
    "plt.title('Passholder type and trips taken')\n",
    "plt.xlabel('Passholder Type')\n",
    "plt.ylabel('Count')\n",
    "plt.show()"
   ]
  },
  {
   "cell_type": "markdown",
   "id": "aae39a3b-46fd-4cce-a51c-d88a4afdad03",
   "metadata": {},
   "source": [
    "The bar chart shows that Monthly Pass holders take significantly more rides than Walk-up, Annual, and One Day passholders."
   ]
  },
  {
   "cell_type": "code",
   "execution_count": 37,
   "id": "cf852f93-51b8-458c-b5b7-c44c763be5b5",
   "metadata": {},
   "outputs": [
    {
     "data": {
      "image/png": "[encoded data removed]",
      "text/plain": [
       "<Figure size 640x480 with 1 Axes>"
      ]
     },
     "metadata": {},
     "output_type": "display_data"
    }
   ],
   "source": [
    "# Correlation between trip duration and passholder type\n",
    "grouped_data = mt_cleaned.groupby('passholder_type')['duration'].sum().reset_index()\n",
    "sns.barplot(x='passholder_type', y='duration', data = grouped_data)\n",
    "plt.title('correlation between passholder type and trip duration')\n",
    "plt.xlabel('Passholder Type')\n",
    "plt.ylabel('Duration')\n",
    "plt.show()"
   ]
  },
  {
   "cell_type": "markdown",
   "id": "02673fc1-f514-436a-a8e9-774e4adbafba",
   "metadata": {},
   "source": [
    "Members who hold Walk-up passes take the longest trips of the four passholder types, followed by monthly passholders, one day pass and finally annual passholders."
   ]
  },
  {
   "cell_type": "code",
   "execution_count": 38,
   "id": "be694db3-464a-40b0-a8c6-0e571a430293",
   "metadata": {},
   "outputs": [
    {
     "name": "stdout",
     "output_type": "stream",
     "text": [
      "Popular routes;\n",
      "0         3074 - 4453\n",
      "1         4482 - 4482\n",
      "2         3005 - 4513\n",
      "3         3052 - 3074\n",
      "4         4491 - 4491\n",
      "             ...     \n",
      "976736    4536 - 4536\n",
      "976737    4210 - 4210\n",
      "976738    4214 - 4214\n",
      "976739    4315 - 4315\n",
      "976740    4478 - 4478\n",
      "Name: Popular Routes, Length: 976741, dtype: object\n",
      "Top fifteen popular routes and number of trips;\n"
     ]
    },
    {
     "data": {
      "text/html": [
       "<div>\n",
       "<style scoped>\n",
       "    .dataframe tbody tr th:only-of-type {\n",
       "        vertical-align: middle;\n",
       "    }\n",
       "\n",
       "    .dataframe tbody tr th {\n",
       "        vertical-align: top;\n",
       "    }\n",
       "\n",
       "    .dataframe thead th {\n",
       "        text-align: right;\n",
       "    }\n",
       "</style>\n",
       "<table border=\"1\" class=\"dataframe\">\n",
       "  <thead>\n",
       "    <tr style=\"text-align: right;\">\n",
       "      <th></th>\n",
       "      <th>Popular Routes</th>\n",
       "      <th>number of trips</th>\n",
       "    </tr>\n",
       "  </thead>\n",
       "  <tbody>\n",
       "    <tr>\n",
       "      <th>0</th>\n",
       "      <td>4214 - 4214</td>\n",
       "      <td>18919</td>\n",
       "    </tr>\n",
       "    <tr>\n",
       "      <th>1</th>\n",
       "      <td>4214 - 4215</td>\n",
       "      <td>14315</td>\n",
       "    </tr>\n",
       "    <tr>\n",
       "      <th>2</th>\n",
       "      <td>4210 - 4210</td>\n",
       "      <td>9912</td>\n",
       "    </tr>\n",
       "    <tr>\n",
       "      <th>3</th>\n",
       "      <td>4215 - 4215</td>\n",
       "      <td>9090</td>\n",
       "    </tr>\n",
       "    <tr>\n",
       "      <th>4</th>\n",
       "      <td>4544 - 4544</td>\n",
       "      <td>8641</td>\n",
       "    </tr>\n",
       "    <tr>\n",
       "      <th>5</th>\n",
       "      <td>4543 - 4543</td>\n",
       "      <td>8566</td>\n",
       "    </tr>\n",
       "    <tr>\n",
       "      <th>6</th>\n",
       "      <td>4215 - 4214</td>\n",
       "      <td>7246</td>\n",
       "    </tr>\n",
       "    <tr>\n",
       "      <th>7</th>\n",
       "      <td>4210 - 4215</td>\n",
       "      <td>7115</td>\n",
       "    </tr>\n",
       "    <tr>\n",
       "      <th>8</th>\n",
       "      <td>4214 - 4210</td>\n",
       "      <td>6646</td>\n",
       "    </tr>\n",
       "    <tr>\n",
       "      <th>9</th>\n",
       "      <td>4210 - 4214</td>\n",
       "      <td>5802</td>\n",
       "    </tr>\n",
       "    <tr>\n",
       "      <th>10</th>\n",
       "      <td>4215 - 4210</td>\n",
       "      <td>4920</td>\n",
       "    </tr>\n",
       "    <tr>\n",
       "      <th>11</th>\n",
       "      <td>3035 - 3035</td>\n",
       "      <td>4282</td>\n",
       "    </tr>\n",
       "    <tr>\n",
       "      <th>12</th>\n",
       "      <td>4558 - 4558</td>\n",
       "      <td>3720</td>\n",
       "    </tr>\n",
       "    <tr>\n",
       "      <th>13</th>\n",
       "      <td>3006 - 3006</td>\n",
       "      <td>3648</td>\n",
       "    </tr>\n",
       "    <tr>\n",
       "      <th>14</th>\n",
       "      <td>3005 - 3005</td>\n",
       "      <td>3626</td>\n",
       "    </tr>\n",
       "  </tbody>\n",
       "</table>\n",
       "</div>"
      ],
      "text/plain": [
       "   Popular Routes  number of trips\n",
       "0     4214 - 4214            18919\n",
       "1     4214 - 4215            14315\n",
       "2     4210 - 4210             9912\n",
       "3     4215 - 4215             9090\n",
       "4     4544 - 4544             8641\n",
       "5     4543 - 4543             8566\n",
       "6     4215 - 4214             7246\n",
       "7     4210 - 4215             7115\n",
       "8     4214 - 4210             6646\n",
       "9     4210 - 4214             5802\n",
       "10    4215 - 4210             4920\n",
       "11    3035 - 3035             4282\n",
       "12    4558 - 4558             3720\n",
       "13    3006 - 3006             3648\n",
       "14    3005 - 3005             3626"
      ]
     },
     "execution_count": 38,
     "metadata": {},
     "output_type": "execute_result"
    }
   ],
   "source": [
    "# Commonly used station pairs (start and end stations)\n",
    "# Concatenating start and end staions\n",
    "mt_cleaned['Popular Routes'] = mt_cleaned['start_station'].astype(str) + ' - ' + mt_cleaned['end_station'].astype(str)\n",
    "print('Popular routes;')\n",
    "print(mt_cleaned['Popular Routes'])\n",
    "# Popular routes\n",
    "route = mt_cleaned['Popular Routes'].value_counts().reset_index(name='number of trips')\n",
    "print('Top fifteen popular routes and number of trips;')\n",
    "route.head(15)"
   ]
  },
  {
   "cell_type": "markdown",
   "id": "aef13898-c0a0-4211-a412-a1809a84842f",
   "metadata": {},
   "source": [
    "In the top ten start and end station pairs, five were round trips, with station 4214 and 4210 having 18,919 and 9,912 round trips respectively. Station pairs 4214 - 4215 and 4215 - 4214 has the most one-way trips with 14,315 and 7,246 trips respectively between the pairs. There is a notable frequency of trips between staion pairs 4215 and 4214, with a combined 21,561 trips between the pair."
   ]
  }
 ],
 "metadata": {
  "kernelspec": {
   "display_name": "Python 3 (ipykernel)",
   "language": "python",
   "name": "python3"
  },
  "language_info": {
   "codemirror_mode": {
    "name": "ipython",
    "version": 3
   },
   "file_extension": ".py",
   "mimetype": "text/x-python",
   "name": "python",
   "nbconvert_exporter": "python",
   "pygments_lexer": "ipython3",
   "version": "3.11.7"
  }
 },
 "nbformat": 4,
 "nbformat_minor": 5
}
