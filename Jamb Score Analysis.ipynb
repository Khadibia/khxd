{
 "cells": [
  {
   "cell_type": "markdown",
   "id": "eb15f1c6-f829-4b7a-9708-5bf31dbf4b41",
   "metadata": {},
   "source": [
    "The exploratory data analysis of JAMB Scores of 133 students using Python. This dataset was generated using OpenAI's ChatGPT.\n",
    "The following were sought to be explored in the dataset;\n",
    "i. The maximum score\n",
    "ii. The minimum score\n",
    "iii. The top ten scorers\n",
    "Descriptive Statistics\n",
    "    Calculating the mean, median, and mode of the scores which gives a sense of the central tendency of the data.\n",
    "    Determining the range and standard deviation of the data which helps understand the spread or dispertion of the data\n",
    "Distribution Analysis\n",
    "    Creating a histogram to visualize the distribution of the test scores, which will help identify any patterns or skewness in the data\n",
    "Hypothesis Testing\n",
    "    Conducting a one-sample t-test that the average test score is less than 300"
   ]
  },
  {
   "cell_type": "code",
   "execution_count": 76,
   "id": "0b142d9e-7157-44fd-8a9d-8578a9674690",
   "metadata": {},
   "outputs": [],
   "source": [
    "# importing packages to be used in the analysis\n",
    "import pandas as pd\n",
    "import numpy as np\n",
    "from scipy import stats\n",
    "import matplotlib.pyplot as plt"
   ]
  },
  {
   "cell_type": "code",
   "execution_count": 77,
   "id": "b438566b-e1b1-4579-8313-642c9722da6f",
   "metadata": {},
   "outputs": [
    {
     "name": "stdout",
     "output_type": "stream",
     "text": [
      "<class 'pandas.core.frame.DataFrame'>\n",
      "RangeIndex: 133 entries, 0 to 132\n",
      "Data columns (total 2 columns):\n",
      " #   Column  Non-Null Count  Dtype \n",
      "---  ------  --------------  ----- \n",
      " 0   Name    133 non-null    object\n",
      " 1   Score   133 non-null    int64 \n",
      "dtypes: int64(1), object(1)\n",
      "memory usage: 2.2+ KB\n",
      "                   Name  Score\n",
      "0      Adebayo Adekunle    350\n",
      "1     Adesanya Ogunleye    290\n",
      "2        Adegoke Abiola    315\n",
      "3       Adeola Adeniran    280\n",
      "4    Adesuwa Igbinedion    265\n",
      "..                  ...    ...\n",
      "128       Wasiu Olaleye    275\n",
      "129    Yejide Oluwaseun    365\n",
      "130       Yinka Odumosu    320\n",
      "131     Zainab Abubakar    305\n",
      "132           Zinny Eze    330\n",
      "\n",
      "[133 rows x 2 columns]\n"
     ]
    }
   ],
   "source": [
    "# importing csv file\n",
    "df = pd.read_csv(r'C:\\Users\\hp\\Documents\\Datasets\\Jamb.csv')\n",
    "df.dropna()\n",
    "df.info()\n",
    "print(df)"
   ]
  },
  {
   "cell_type": "code",
   "execution_count": 80,
   "id": "2fe015c3-8bda-4bce-a518-6e9c2901d75a",
   "metadata": {},
   "outputs": [
    {
     "data": {
      "text/plain": [
       "375"
      ]
     },
     "execution_count": 80,
     "metadata": {},
     "output_type": "execute_result"
    }
   ],
   "source": [
    "# Max score\n",
    "np.max(df[\"Score\"])"
   ]
  },
  {
   "cell_type": "code",
   "execution_count": 81,
   "id": "8d5b0abb-57a1-4f48-accf-eb9aff0f4c02",
   "metadata": {},
   "outputs": [
    {
     "data": {
      "text/plain": [
       "225"
      ]
     },
     "execution_count": 81,
     "metadata": {},
     "output_type": "execute_result"
    }
   ],
   "source": [
    "# Min score\n",
    "np.min(df[\"Score\"])"
   ]
  },
  {
   "cell_type": "code",
   "execution_count": 78,
   "id": "5e986a54-0ce2-40fe-afd1-476d96a85cd3",
   "metadata": {},
   "outputs": [
    {
     "data": {
      "text/html": [
       "<div>\n",
       "<style scoped>\n",
       "    .dataframe tbody tr th:only-of-type {\n",
       "        vertical-align: middle;\n",
       "    }\n",
       "\n",
       "    .dataframe tbody tr th {\n",
       "        vertical-align: top;\n",
       "    }\n",
       "\n",
       "    .dataframe thead th {\n",
       "        text-align: right;\n",
       "    }\n",
       "</style>\n",
       "<table border=\"1\" class=\"dataframe\">\n",
       "  <thead>\n",
       "    <tr style=\"text-align: right;\">\n",
       "      <th></th>\n",
       "      <th>Name</th>\n",
       "      <th>Score</th>\n",
       "    </tr>\n",
       "  </thead>\n",
       "  <tbody>\n",
       "    <tr>\n",
       "      <th>8</th>\n",
       "      <td>Ajayi Okechukwu</td>\n",
       "      <td>375</td>\n",
       "    </tr>\n",
       "    <tr>\n",
       "      <th>12</th>\n",
       "      <td>Akintola Makinde</td>\n",
       "      <td>370</td>\n",
       "    </tr>\n",
       "    <tr>\n",
       "      <th>129</th>\n",
       "      <td>Yejide Oluwaseun</td>\n",
       "      <td>365</td>\n",
       "    </tr>\n",
       "    <tr>\n",
       "      <th>52</th>\n",
       "      <td>Emeka Onwuka</td>\n",
       "      <td>365</td>\n",
       "    </tr>\n",
       "    <tr>\n",
       "      <th>27</th>\n",
       "      <td>Babatunde Osagie</td>\n",
       "      <td>365</td>\n",
       "    </tr>\n",
       "    <tr>\n",
       "      <th>112</th>\n",
       "      <td>Micheal Osagie</td>\n",
       "      <td>360</td>\n",
       "    </tr>\n",
       "    <tr>\n",
       "      <th>104</th>\n",
       "      <td>Dare Ajayi</td>\n",
       "      <td>360</td>\n",
       "    </tr>\n",
       "    <tr>\n",
       "      <th>74</th>\n",
       "      <td>Iyabo Shonibare</td>\n",
       "      <td>355</td>\n",
       "    </tr>\n",
       "    <tr>\n",
       "      <th>24</th>\n",
       "      <td>Ayodeji Akinfenwa</td>\n",
       "      <td>355</td>\n",
       "    </tr>\n",
       "    <tr>\n",
       "      <th>95</th>\n",
       "      <td>Olufunmilayo Ajayi</td>\n",
       "      <td>355</td>\n",
       "    </tr>\n",
       "  </tbody>\n",
       "</table>\n",
       "</div>"
      ],
      "text/plain": [
       "                   Name  Score\n",
       "8       Ajayi Okechukwu    375\n",
       "12     Akintola Makinde    370\n",
       "129    Yejide Oluwaseun    365\n",
       "52         Emeka Onwuka    365\n",
       "27     Babatunde Osagie    365\n",
       "112      Micheal Osagie    360\n",
       "104          Dare Ajayi    360\n",
       "74      Iyabo Shonibare    355\n",
       "24    Ayodeji Akinfenwa    355\n",
       "95   Olufunmilayo Ajayi    355"
      ]
     },
     "execution_count": 78,
     "metadata": {},
     "output_type": "execute_result"
    }
   ],
   "source": [
    "# Top ten high scorers\n",
    "df = df.sort_values(by='Score', ascending = False)\n",
    "df.head(10)"
   ]
  },
  {
   "cell_type": "code",
   "execution_count": 79,
   "id": "a1578f7a-b5bf-4bf9-96d0-4b9e54b05050",
   "metadata": {},
   "outputs": [
    {
     "data": {
      "text/plain": [
       "311.76691729323306"
      ]
     },
     "execution_count": 79,
     "metadata": {},
     "output_type": "execute_result"
    }
   ],
   "source": [
    "# Descriptive Analysis, i: Determining the central tendacy of the data\n",
    "# Mean score\n",
    "np.mean(df[\"Score\"])"
   ]
  },
  {
   "cell_type": "code",
   "execution_count": null,
   "id": "aed09f9c-e3c7-427b-b949-9c1636f34aec",
   "metadata": {},
   "outputs": [],
   "source": [
    "# Median\n",
    "median = df['Score'].median()\n",
    "print(median)"
   ]
  },
  {
   "cell_type": "code",
   "execution_count": null,
   "id": "f018c51f-2a9c-4bc6-9fdf-aeb2a15a7ca9",
   "metadata": {},
   "outputs": [],
   "source": [
    "# Mode\n",
    "mode = df['Score'].mode()\n",
    "print(mode)"
   ]
  },
  {
   "cell_type": "code",
   "execution_count": 82,
   "id": "b8df7d16-d04d-4861-b64c-08ccd623275c",
   "metadata": {},
   "outputs": [
    {
     "data": {
      "text/plain": [
       "150"
      ]
     },
     "execution_count": 82,
     "metadata": {},
     "output_type": "execute_result"
    }
   ],
   "source": [
    "# Determing the spread of the data\n",
    "# Range of scores\n",
    "np.max(df[\"Score\"]) - np.min(df[\"Score\"])"
   ]
  },
  {
   "cell_type": "code",
   "execution_count": 83,
   "id": "9bd86189-d8d0-498a-94f9-cf83b5b04ca2",
   "metadata": {},
   "outputs": [
    {
     "data": {
      "text/plain": [
       "28.615913133812132"
      ]
     },
     "execution_count": 83,
     "metadata": {},
     "output_type": "execute_result"
    }
   ],
   "source": [
    "# Standard Deviation\n",
    "np.std(df[\"Score\"])"
   ]
  },
  {
   "cell_type": "code",
   "execution_count": 84,
   "id": "3ff44e48-6515-4e1b-b65e-a62e556854bf",
   "metadata": {
    "scrolled": true
   },
   "outputs": [
    {
     "data": {
      "image/png": "[encoded data removed]",
      "text/plain": [
       "<Figure size 640x480 with 1 Axes>"
      ]
     },
     "metadata": {},
     "output_type": "display_data"
    }
   ],
   "source": [
    "# Creating a histogram to identify patterns or skewsness\n",
    "plt.hist(df['Score'], bins = range(200, 401, 25))\n",
    "plt.xticks(range(200, 401, 50))\n",
    "plt.yticks(range(0, 50, 10))\n",
    "plt.xlabel('Score')\n",
    "plt.ylabel('Count')\n",
    "plt.show()"
   ]
  },
  {
   "cell_type": "code",
   "execution_count": 85,
   "id": "ae8e42b8-5ca4-447a-a0ee-c7b16681e1fc",
   "metadata": {},
   "outputs": [
    {
     "name": "stdout",
     "output_type": "stream",
     "text": [
      "T-statistic is 4.724349925967512\n",
      "P-value is 0.99999708695506\n",
      "Fail to reject null hypothesis\n"
     ]
    }
   ],
   "source": [
    "# Hypothesis test that average score is less than 300, with a 5% significance level\n",
    "# Null Hypothesis: The average score is higher than 300\n",
    "# Alternative Hypothesis: The average score is less than 300\n",
    "hypothesized_mean = 300\n",
    "scores = df['Score']\n",
    "t_statistic, p_value = stats.ttest_1samp(scores, hypothesized_mean, alternative='less')\n",
    "print(f\"T-statistic is {t_statistic}\")\n",
    "print(f\"P-value is {p_value}\")\n",
    "if p_value < 0.05:\n",
    "     print(\"Reject null hypothesis\")\n",
    "else:\n",
    "     print(\"Fail to reject null hypothesis\")\n"
   ]
  }
 ],
 "metadata": {
  "kernelspec": {
   "display_name": "Python 3 (ipykernel)",
   "language": "python",
   "name": "python3"
  },
  "language_info": {
   "codemirror_mode": {
    "name": "ipython",
    "version": 3
   },
   "file_extension": ".py",
   "mimetype": "text/x-python",
   "name": "python",
   "nbconvert_exporter": "python",
   "pygments_lexer": "ipython3",
   "version": "3.11.7"
  }
 },
 "nbformat": 4,
 "nbformat_minor": 5
}
